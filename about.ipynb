{
  "cells": [
    {
      "cell_type": "raw",
      "metadata": {},
      "source": [
        "# Performance Tracking\n",
        "\n",
        "Plan your training schedule and workouts with precision. The Fitness and Stress chart allows you to track stress, fitness and freshness levels.\n",
        "\n",
        "## Detailed FTP, Weight and Power History\n",
        "\n",
        "Track your FTP and Weight changes. Changes to FTP and Weight are constantly evolving and WattsBoard takes this into account. Any changes made to your metrics are updated in real-time.\n",
        "\n",
        "### Time Based Filtering\n",
        "\n",
        "Filter your power metrics by date, for a detailed view of how your profile has changed over time."
      ]
    },
    {
      "cell_type": "raw",
      "metadata": {},
      "source": [
        "import matplotlib.pyplot as plt\n",
        "\n",
        "# Data\n",
        "x = [1, 2, 3, 4, 5]\n",
        "y = [2, 3, 5, 7, 11]\n",
        "\n",
        "# Create the plot\n",
        "plt.figure()\n",
        "plt.plot(x, y)\n",
        "\n",
        "# Add title and labels\n",
        "plt.title('Sample Plot')\n",
        "plt.xlabel('X Axis Label')\n",
        "plt.ylabel('Y Axis Label')\n",
        "\n",
        "# Show the plot\n",
        "plt.show()"
      ]
    }
  ],
  "metadata": {
    "kernelspec": {
      "display_name": "Python 3",
      "language": "python",
      "name": "python3"
    },
    "language_info": {
      "codemirror_mode": {
        "name": "ipython",
        "version": 3
      },
      "file_extension": ".py",
      "mimetype": "text/x-python",
      "name": "python",
      "nbconvert_exporter": "python",
      "pygments_lexer": "ipython3",
      "version": "3.11.4"
    }
  },
  "nbformat": 4,
  "nbformat_minor": 4
}
